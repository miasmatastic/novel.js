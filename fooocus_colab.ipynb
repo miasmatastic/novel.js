{
  "cells": [
    {
      "cell_type": "code",
      "execution_count": 1,
      "metadata": {
        "id": "VjYy0F2gZIPR",
        "colab": {
          "base_uri": "https://localhost:8080/"
        },
        "collapsed": true,
        "outputId": "1ea965f0-953c-49c4-e9b0-02202aa6f05e"
      },
      "outputs": [
        {
          "output_type": "stream",
          "name": "stdout",
          "text": [
            "Collecting pygit2==1.15.1\n",
            "  Downloading pygit2-1.15.1-cp311-cp311-manylinux_2_17_x86_64.manylinux2014_x86_64.whl.metadata (3.3 kB)\n",
            "Requirement already satisfied: cffi>=1.16.0 in /usr/local/lib/python3.11/dist-packages (from pygit2==1.15.1) (1.17.1)\n",
            "Requirement already satisfied: pycparser in /usr/local/lib/python3.11/dist-packages (from cffi>=1.16.0->pygit2==1.15.1) (2.22)\n",
            "Downloading pygit2-1.15.1-cp311-cp311-manylinux_2_17_x86_64.manylinux2014_x86_64.whl (5.1 MB)\n",
            "\u001b[?25l   \u001b[90m━━━━━━━━━━━━━━━━━━━━━━━━━━━━━━━━━━━━━━━━\u001b[0m \u001b[32m0.0/5.1 MB\u001b[0m \u001b[31m?\u001b[0m eta \u001b[36m-:--:--\u001b[0m\r\u001b[2K   \u001b[91m━━━━━━━\u001b[0m\u001b[90m╺\u001b[0m\u001b[90m━━━━━━━━━━━━━━━━━━━━━━━━━━━━━━━━\u001b[0m \u001b[32m0.9/5.1 MB\u001b[0m \u001b[31m24.2 MB/s\u001b[0m eta \u001b[36m0:00:01\u001b[0m\r\u001b[2K   \u001b[91m━━━━━━━━━━━━━━━━━━━━━━━━━━━━━\u001b[0m\u001b[91m╸\u001b[0m\u001b[90m━━━━━━━━━━\u001b[0m \u001b[32m3.8/5.1 MB\u001b[0m \u001b[31m45.5 MB/s\u001b[0m eta \u001b[36m0:00:01\u001b[0m\r\u001b[2K   \u001b[91m━━━━━━━━━━━━━━━━━━━━━━━━━━━━━━━━━━━━━━━\u001b[0m\u001b[91m╸\u001b[0m \u001b[32m5.1/5.1 MB\u001b[0m \u001b[31m53.4 MB/s\u001b[0m eta \u001b[36m0:00:01\u001b[0m\r\u001b[2K   \u001b[90m━━━━━━━━━━━━━━━━━━━━━━━━━━━━━━━━━━━━━━━━\u001b[0m \u001b[32m5.1/5.1 MB\u001b[0m \u001b[31m36.0 MB/s\u001b[0m eta \u001b[36m0:00:00\u001b[0m\n",
            "\u001b[?25hInstalling collected packages: pygit2\n",
            "  Attempting uninstall: pygit2\n",
            "    Found existing installation: pygit2 1.16.0\n",
            "    Uninstalling pygit2-1.16.0:\n",
            "      Successfully uninstalled pygit2-1.16.0\n",
            "Successfully installed pygit2-1.15.1\n",
            "/content\n",
            "Cloning into 'Fooocus'...\n",
            "remote: Enumerating objects: 6725, done.\u001b[K\n",
            "remote: Counting objects: 100% (4/4), done.\u001b[K\n",
            "remote: Compressing objects: 100% (4/4), done.\u001b[K\n",
            "remote: Total 6725 (delta 2), reused 0 (delta 0), pack-reused 6721 (from 3)\u001b[K\n",
            "Receiving objects: 100% (6725/6725), 33.26 MiB | 22.81 MiB/s, done.\n",
            "Resolving deltas: 100% (3878/3878), done.\n",
            "/content/Fooocus\n"
          ]
        }
      ],
      "source": [
        "!pip install pygit2==1.15.1\n",
        "%cd /content\n",
        "!git clone https://github.com/lllyasviel/Fooocus.git\n",
        "%cd /content/Fooocus"
      ]
    },
    {
      "cell_type": "code",
      "source": [
        "\n",
        "!python entry_with_update.py --share --always-high-vram"
      ],
      "metadata": {
        "id": "H4d3KuZfK6xn"
      },
      "execution_count": null,
      "outputs": []
    },
    {
      "cell_type": "code",
      "source": [
        "##Load LORAS\n",
        "\n",
        "\n",
        "#CIVITIA_API_KEY=\"a8ce10c377ed8767e3ff15cbe6acd6c5\"\n",
        "# artists\n",
        "#!wget -q --show-progress -O 'models/lora/beksinski.safetensors' \"https://civitai.com/api/download/models/134483?type=Model&format=SafeTensor&token=$a8ce10c377ed8767e3ff15cbe6acd6c5\"\n",
        "\n",
        "#Styles\n",
        "#Product Photography 1 \"Product Photography\"\n",
        "#!wget -q --show-progress -O 'models/lora/ProductPhoto1.safetensors' \"https://civitai.com/api/download/models/790057?type=Model&format=SafeTensor&token=a8ce10c377ed8767e3ff15cbe6acd6c5\"\n",
        "#Product Photos 2?\n",
        "#!wget -q --show-progress -O 'models/lora/ProductPhoto2.safetensors' \"https://civitai.com/api/download/models/845464?type=Model&format=SafeTensor&token=a8ce10c377ed8767e3ff15cbe6acd6c5\"\n",
        "#Product Photo 3:\n",
        "#!wget -q --show-progress -O 'models/loras/ProductPhoto3.safetensors' \"https://civitai.com/api/download/models/1044394?type=Model&format=SafeTensor&token=a8ce10c377ed8767e3ff15cbe6acd6c5\"\n",
        "\n",
        "#Melting\n",
        "#!wget -q --show-progress -O 'models/loras/ral-melting.safetensors' \"https://civitai.com/api/download/models/277422?type=Model&format=SafeTensor&token=a8ce10c377ed8767e3ff15cbe6acd6c5\"\n",
        "\n",
        "#miyazaki hayao\n",
        "#https://civitai.com/api/download/models/93653?type=Model&format=SafeTensor\n",
        "#!wget -q --show-progress -O 'models/loras/miyazaki.safetensors' \"https://civitai.com/api/download/models/93653?type=Model&format=SafeTensor&format=SafeTensor&token=a8ce10c377ed8767e3ff15cbe6acd6c5\"\n",
        "\n",
        "#logos\n",
        "#!wget -q --show-progress -O 'models/loras/LOGO.safetensors' \"https://civitai.com/api/download/models/177492?type=Model&format=SafeTensor&token=a8ce10c377ed8767e3ff15cbe6acd6c5\"\n",
        "#!wget -q --show-progress -O 'models/loras/LOGO2.safetensors' \"https://civitai.com/api/download/models/232254?type=Model&format=SafeTensor&token=a8ce10c377ed8767e3ff15cbe6acd6c5\"\n",
        "\n",
        "#interior photos\n",
        "!wget -q --show-progress -O 'models/loras/interiors.safetensors' \"https://civitai.com/api/download/models/93152?type=Model&format=SafeTensor&token=a8ce10c377ed8767e3ff15cbe6acd6c5\"\n",
        "\n",
        "\n"
      ],
      "metadata": {
        "id": "df80DTCjK9rj",
        "outputId": "b6733ca4-8e5a-4762-ad1a-32fdb87d5a21",
        "colab": {
          "base_uri": "https://localhost:8080/"
        }
      },
      "execution_count": null,
      "outputs": [
        {
          "output_type": "stream",
          "name": "stdout",
          "text": [
            "models/lora/beksinski.safetensors: No such file or directory\n",
            "models/loras/LOGO.s  36%[======>             ]  59.88M  29.3MB/s               "
          ]
        }
      ]
    },
    {
      "cell_type": "code",
      "source": [
        "###Load Checkpoints\n",
        "\n",
        "\n",
        "# checkpoints\n",
        "# !wget -q --show-progress -O 'models/checkpoints/realisticFantasyMix_v20Vae.safetensors' \"https://civitai.com/api/download/models/200225?type=Model&format=SafeTensor&size=full&fp=fp16&token=$CIVITIA_API_KEY\"\n",
        "#Product Photo Checkpoints\n",
        "!wget -q --show-progress -O 'models/checkpoints/MooMooE-comerceSDXL.safetensors' \"https://civitai.com/api/download/models/714404?type=Model&format=SafeTensor&size=full&fp=fp16&token=$a8ce10c377ed8767e3ff15cbe6acd6c5\"\n"
      ],
      "metadata": {
        "id": "6OCvOShcPTI8"
      },
      "execution_count": 2,
      "outputs": []
    }
  ],
  "metadata": {
    "accelerator": "GPU",
    "colab": {
      "gpuType": "T4",
      "provenance": []
    },
    "kernelspec": {
      "display_name": "Python 3",
      "name": "python3"
    },
    "language_info": {
      "name": "python"
    }
  },
  "nbformat": 4,
  "nbformat_minor": 0
}