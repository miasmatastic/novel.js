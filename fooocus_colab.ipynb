{
  "cells": [
    {
      "cell_type": "code",
      "execution_count": null,
      "metadata": {
        "id": "VjYy0F2gZIPR"
      },
      "outputs": [],
      "source": [
        "!pip install pygit2==1.15.1\n",
        "%cd /content\n",
        "!git clone https://github.com/lllyasviel/Fooocus.git\n",
        "%cd /content/Fooocus"
      ]
    },
    {
      "cell_type": "code",
      "source": [
        "\n",
        "!python entry_with_update.py --share --always-high-vram"
      ],
      "metadata": {
        "id": "H4d3KuZfK6xn"
      },
      "execution_count": null,
      "outputs": []
    },
    {
      "cell_type": "code",
      "source": [
        "##Load LORAS\n",
        "\n",
        "\n",
        "#CIVITIA_API_KEY=\"a8ce10c377ed8767e3ff15cbe6acd6c5\"\n",
        "# artists\n",
        "#!wget -q --show-progress -O 'models/lora/beksinski.safetensors' \"https://civitai.com/api/download/models/134483?type=Model&format=SafeTensor&token=$a8ce10c377ed8767e3ff15cbe6acd6c5\"\n",
        "\n",
        "#Styles\n",
        "#Product Photography 1 \"Product Photography\"\n",
        "!wget -q --show-progress -O 'models/lora/ProductPhoto1.safetensors' \"https://civitai.com/api/download/models/790057?type=Model&format=SafeTensor&token=a8ce10c377ed8767e3ff15cbe6acd6c5\"\n",
        "#Product Photos 2?\n",
        "#!wget -q --show-progress -O 'models/lora/ProductPhoto1.safetensors' \"https://civitai.com/api/download/models/845464?type=Model&format=SafeTensor&token=a8ce10c377ed8767e3ff15cbe6acd6c5\"\n",
        "\n",
        "#Melting\n",
        "!wget -q --show-progress -O 'models/loras/ral-melting.safetensors' \"https://civitai.com/api/download/models/277422?type=Model&format=SafeTensor&token=a8ce10c377ed8767e3ff15cbe6acd6c5\"\n",
        "#"
      ],
      "metadata": {
        "id": "df80DTCjK9rj"
      },
      "execution_count": null,
      "outputs": []
    },
    {
      "cell_type": "code",
      "source": [
        "##Load Checkpoints\n",
        "\n",
        "# checkpoints\n",
        "# !wget -q --show-progress -O 'models/checkpoints/realisticFantasyMix_v20Vae.safetensors' \"https://civitai.com/api/download/models/200225?type=Model&format=SafeTensor&size=full&fp=fp16&token=$CIVITIA_API_KEY\"\n",
        "#Product Photo Checkpoints\n",
        "#!wget -q --show-progress -O 'models/checkpoints/MooMooE-comerceSDXL.safetensors' \"https://civitai.com/api/download/models/714404?type=Model&format=SafeTensor&size=full&fp=fp16&token=$CIVITIA_API_KEY\"\n"
      ],
      "metadata": {
        "id": "6OCvOShcPTI8"
      },
      "execution_count": null,
      "outputs": []
    }
  ],
  "metadata": {
    "accelerator": "GPU",
    "colab": {
      "gpuType": "T4",
      "provenance": []
    },
    "kernelspec": {
      "display_name": "Python 3",
      "name": "python3"
    },
    "language_info": {
      "name": "python"
    }
  },
  "nbformat": 4,
  "nbformat_minor": 0
}